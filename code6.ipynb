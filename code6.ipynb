{
 "cells": [
  {
   "cell_type": "markdown",
   "metadata": {},
   "source": [
    "Task: \n",
    "You have a set of CSV files stored in a location, each representing a state such as Karnataka or Maharashtra. These files are named after their respective states, like \"karnataka.csv\" and \"maharashtra.csv\". Each CSV file contains columns for first_name, last_name, age, sex, and location.\n",
    "\n",
    "Your task is to create a script to process these CSV files and add a new column called \"state\" to each DataFrame. This \"state\" column should contain the name of the state extracted from the filename."
   ]
  },
  {
   "cell_type": "code",
   "execution_count": 1,
   "metadata": {},
   "outputs": [],
   "source": [
    "from pyspark.sql import SparkSession\n",
    "\n",
    "spark = SparkSession.builder.appName('challenges').getOrCreate()"
   ]
  },
  {
   "cell_type": "code",
   "execution_count": 10,
   "metadata": {},
   "outputs": [
    {
     "name": "stdout",
     "output_type": "stream",
     "text": [
      "+----------+---------+---+---+\n",
      "|first_name|last_name|age|sex|\n",
      "+----------+---------+---+---+\n",
      "|     Sarah|   Miller| 35|  F|\n",
      "|      Ryan| Anderson| 45|  M|\n",
      "|   Jessica|   Taylor| 28|  F|\n",
      "|   Matthew|  Jackson| 32|  M|\n",
      "|    Amanda|    White| 38|  F|\n",
      "|      John|      Doe| 30|  M|\n",
      "|      Jane|    Smith| 25|  F|\n",
      "|   Michael|  Johnson| 40|  M|\n",
      "|     Emily| Williams| 35|  F|\n",
      "|     David|    Brown| 28|  M|\n",
      "+----------+---------+---+---+\n",
      "\n"
     ]
    }
   ],
   "source": [
    "states_location = 'data/states/*.csv'\n",
    "\n",
    "df_input = spark.read.format('csv').options(inferSchema=True,header=True).load(states_location)\n",
    "\n",
    "df_input.show()"
   ]
  },
  {
   "cell_type": "code",
   "execution_count": 18,
   "metadata": {},
   "outputs": [
    {
     "name": "stdout",
     "output_type": "stream",
     "text": [
      "+----------+---------+---+---+----------+\n",
      "|first_name|last_name|age|sex|state_name|\n",
      "+----------+---------+---+---+----------+\n",
      "|Sarah     |Miller   |35 |F  |karnataka |\n",
      "|Ryan      |Anderson |45 |M  |karnataka |\n",
      "|Jessica   |Taylor   |28 |F  |karnataka |\n",
      "|Matthew   |Jackson  |32 |M  |karnataka |\n",
      "|Amanda    |White    |38 |F  |karnataka |\n",
      "|John      |Doe      |30 |M  |kerala    |\n",
      "|Jane      |Smith    |25 |F  |kerala    |\n",
      "|Michael   |Johnson  |40 |M  |kerala    |\n",
      "|Emily     |Williams |35 |F  |kerala    |\n",
      "|David     |Brown    |28 |M  |kerala    |\n",
      "+----------+---------+---+---+----------+\n",
      "\n"
     ]
    }
   ],
   "source": [
    "from pyspark.sql.functions import *\n",
    "\n",
    "df = df_input.withColumn('input_file_name',input_file_name())\n",
    "\n",
    "pattern = r'.*/(.*).csv' \n",
    "df = df.withColumn(\"state_name\", regexp_extract(\"input_file_name\", pattern, 1)).drop('input_file_name')\n",
    "\n",
    "df.show(truncate=False)"
   ]
  },
  {
   "cell_type": "code",
   "execution_count": null,
   "metadata": {},
   "outputs": [],
   "source": []
  }
 ],
 "metadata": {
  "kernelspec": {
   "display_name": "Python 3",
   "language": "python",
   "name": "python3"
  },
  "language_info": {
   "codemirror_mode": {
    "name": "ipython",
    "version": 3
   },
   "file_extension": ".py",
   "mimetype": "text/x-python",
   "name": "python",
   "nbconvert_exporter": "python",
   "pygments_lexer": "ipython3",
   "version": "3.9.12"
  }
 },
 "nbformat": 4,
 "nbformat_minor": 2
}
