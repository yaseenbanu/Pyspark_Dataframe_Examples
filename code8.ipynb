{
 "cells": [
  {
   "cell_type": "markdown",
   "metadata": {},
   "source": [
    "## Task\n",
    "\n",
    "Given a dataset with columns PERSON, TYPE, and AGE, create an output where the oldest adult is paired with the youngest child, producing pairs of ADULT and CHILD while ensuring appropriate data matching."
   ]
  },
  {
   "cell_type": "code",
   "execution_count": 1,
   "metadata": {},
   "outputs": [],
   "source": [
    "from pyspark.sql import SparkSession\n",
    "from pyspark.sql.functions import col\n",
    "\n",
    "# Create SparkSession\n",
    "spark = SparkSession.builder \\\n",
    "    .appName(\"AdultChildPairs\") \\\n",
    "    .getOrCreate()"
   ]
  },
  {
   "cell_type": "code",
   "execution_count": 2,
   "metadata": {},
   "outputs": [],
   "source": [
    "# Define input data\n",
    "data = [\n",
    "    (\"A1\", \"ADULT\", 54),\n",
    "    (\"A2\", \"ADULT\", 53),\n",
    "    (\"A3\", \"ADULT\", 52),\n",
    "    (\"A4\", \"ADULT\", 58),\n",
    "    (\"A5\", \"ADULT\", 54),\n",
    "    (\"C1\", \"CHILD\", 20),\n",
    "    (\"C2\", \"CHILD\", 19),\n",
    "    (\"C3\", \"CHILD\", 22),\n",
    "    (\"C4\", \"CHILD\", 15)\n",
    "]\n",
    "\n",
    "# Create DataFrame\n",
    "columns = [\"PERSON\", \"TYPE\", \"AGE\"]\n",
    "df = spark.createDataFrame(data, columns)"
   ]
  },
  {
   "cell_type": "code",
   "execution_count": 6,
   "metadata": {},
   "outputs": [
    {
     "name": "stdout",
     "output_type": "stream",
     "text": [
      "+------+-----+---+----------+\n",
      "|PERSON| TYPE|AGE|row_number|\n",
      "+------+-----+---+----------+\n",
      "|    C4|CHILD| 15|         1|\n",
      "|    C2|CHILD| 19|         2|\n",
      "|    C1|CHILD| 20|         3|\n",
      "|    C3|CHILD| 22|         4|\n",
      "+------+-----+---+----------+\n",
      "\n",
      "+------+-----+---+----------+\n",
      "|PERSON| TYPE|AGE|row_number|\n",
      "+------+-----+---+----------+\n",
      "|    A4|ADULT| 58|         1|\n",
      "|    A1|ADULT| 54|         2|\n",
      "|    A5|ADULT| 54|         3|\n",
      "|    A2|ADULT| 53|         4|\n",
      "|    A3|ADULT| 52|         5|\n",
      "+------+-----+---+----------+\n",
      "\n"
     ]
    }
   ],
   "source": [
    "from pyspark.sql.functions import *\n",
    "from pyspark.sql.window import Window\n",
    "\n",
    "window_spec_desc = Window.orderBy(col('AGE').desc())\n",
    "window_spec_asc = Window.orderBy(col('AGE').asc())\n",
    "\n",
    "df_child = df.filter(col('TYPE')=='CHILD').withColumn('row_number',row_number().over(window_spec_asc))\n",
    "df_child.show()\n",
    "\n",
    "df_adult = df.filter(col('TYPE')=='ADULT').withColumn('row_number',row_number().over(window_spec_desc))\n",
    "df_adult.show()"
   ]
  },
  {
   "cell_type": "code",
   "execution_count": 8,
   "metadata": {},
   "outputs": [
    {
     "name": "stdout",
     "output_type": "stream",
     "text": [
      "+------+-----+---+------+-----+----+\n",
      "|PERSON| TYPE|AGE|PERSON| TYPE| AGE|\n",
      "+------+-----+---+------+-----+----+\n",
      "|    A4|ADULT| 58|    C4|CHILD|  15|\n",
      "|    A1|ADULT| 54|    C2|CHILD|  19|\n",
      "|    A5|ADULT| 54|    C1|CHILD|  20|\n",
      "|    A2|ADULT| 53|    C3|CHILD|  22|\n",
      "|    A3|ADULT| 52|  NULL| NULL|NULL|\n",
      "+------+-----+---+------+-----+----+\n",
      "\n"
     ]
    }
   ],
   "source": [
    "df_pairs = df_adult.join(df_child,on='row_number',how = 'full_outer').drop('row_number')\n",
    "\n",
    "df_pairs.show()"
   ]
  },
  {
   "cell_type": "code",
   "execution_count": null,
   "metadata": {},
   "outputs": [],
   "source": []
  }
 ],
 "metadata": {
  "kernelspec": {
   "display_name": "Python 3",
   "language": "python",
   "name": "python3"
  },
  "language_info": {
   "codemirror_mode": {
    "name": "ipython",
    "version": 3
   },
   "file_extension": ".py",
   "mimetype": "text/x-python",
   "name": "python",
   "nbconvert_exporter": "python",
   "pygments_lexer": "ipython3",
   "version": "3.9.12"
  }
 },
 "nbformat": 4,
 "nbformat_minor": 2
}
